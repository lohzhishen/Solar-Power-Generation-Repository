{
 "cells": [
  {
   "cell_type": "markdown",
   "metadata": {},
   "source": [
    "# <strong>Analysis Notebook</strong>\n",
    "\n",
    "<em>By: Loh Zhi Shen</em>\n",
    "\n",
    "<em>Last updated: 25 August 2022</em>\n",
    "\n",
    "<strong>Summary:</strong>\n",
    "* Anaylsed solar power generation data in Python to identify underperforming solar panels.\n",
    "\n",
    "---\n",
    "\n",
    "## <strong>Analysis Of The Problem</strong>\n",
    "\n",
    "<strong>Problem statement:</strong>\n",
    "\n",
    "    >> Can we identify faulty or suboptimally performing equipment?\n",
    "\n",
    "In the context of energy generation, faulty or suboptimally performing equipment refer to equipment that produce significantly less power than normally functioning equipement. \n",
    "\n",
    "Thus, the problem is an anomaly detection problem.\n",
    "\n",
    "However, an anomaly could refer to a solar panel that is over producing or under producing. Therefore, there needs to be a secondary method to filter out the over producing solar panels. \n",
    "\n",
    "This is where statistical hypothesis testing comes in. We can perform a hypothesis test with the following hypothesis:\n",
    "\n",
    "H0 (null hypothesis) : power generated is equal to the mean power generated.\n",
    "\n",
    "H1 (alternative hypotehsis): power generated is less than the mean power generated.\n",
    "\n",
    "If we were to reject the null hypothesis, there would be strong evidence to show that the solar panel is underperforming.\n",
    "\n",
    "## <strong>Imports</strong>\n"
   ]
  },
  {
   "cell_type": "code",
   "execution_count": null,
   "metadata": {},
   "outputs": [],
   "source": [
    "# linear algebra library\n",
    "import numpy as np\n",
    "\n",
    "# data processing library\n",
    "import pandas as pd\n",
    "\n",
    "# data visualization library\n",
    "import plotly.express as px\n",
    "import plotly.graph_objects as go\n",
    "\n",
    "# outlier detection model\n",
    "from sklearn.linear_model import HuberRegressor\n",
    "\n",
    "# hypothesis testing\n",
    "import scipy.stats as st"
   ]
  },
  {
   "cell_type": "code",
   "execution_count": null,
   "metadata": {},
   "outputs": [],
   "source": [
    "# import the dataset\n",
    "generation_df1 = pd.read_csv(\"dataset/Plant_1_Generation_Data.csv\", parse_dates = [\"DATE_TIME\"], dayfirst = True)\n",
    "weather_df1 = pd.read_csv(\"dataset/Plant_1_Weather_Sensor_Data.csv\", parse_dates = [\"DATE_TIME\"], dayfirst = True)\n",
    "\n",
    "generation_df2 = pd.read_csv(\"dataset/Plant_2_Generation_Data.csv\", parse_dates = [\"DATE_TIME\"], dayfirst = True)\n",
    "weather_df2 = pd.read_csv(\"dataset/Plant_2_Weather_Sensor_Data.csv\", parse_dates = [\"DATE_TIME\"], dayfirst = True)"
   ]
  },
  {
   "cell_type": "code",
   "execution_count": null,
   "metadata": {},
   "outputs": [],
   "source": [
    "generation_df1.head()"
   ]
  },
  {
   "cell_type": "code",
   "execution_count": null,
   "metadata": {},
   "outputs": [],
   "source": [
    "weather_df1.head()"
   ]
  },
  {
   "cell_type": "code",
   "execution_count": null,
   "metadata": {},
   "outputs": [],
   "source": [
    "generation_df2.head()"
   ]
  },
  {
   "cell_type": "code",
   "execution_count": null,
   "metadata": {},
   "outputs": [],
   "source": [
    "weather_df2.head()"
   ]
  },
  {
   "cell_type": "markdown",
   "metadata": {},
   "source": [
    "## <strong>Univariate Analysis</strong>"
   ]
  },
  {
   "cell_type": "code",
   "execution_count": null,
   "metadata": {},
   "outputs": [],
   "source": [
    "generation_df1.describe()"
   ]
  },
  {
   "cell_type": "code",
   "execution_count": null,
   "metadata": {},
   "outputs": [],
   "source": [
    "generation_df2.describe()"
   ]
  },
  {
   "cell_type": "code",
   "execution_count": null,
   "metadata": {},
   "outputs": [],
   "source": [
    "weather_df1.describe()"
   ]
  },
  {
   "cell_type": "code",
   "execution_count": null,
   "metadata": {},
   "outputs": [],
   "source": [
    "weather_df2.describe()"
   ]
  },
  {
   "cell_type": "markdown",
   "metadata": {},
   "source": [
    "Based on these summary statisitcs, the datasets from the 2 plants should be separately analysed as there are significant differences between the 2 datasets - in terms of their summary statistics.\n",
    "\n",
    "As such from now on, the analysis will focus on plant 1 and a similar method should be able to work on the data from plant 2 as well.\n",
    "\n",
    "## <strong>Bivariate Analysis</strong>"
   ]
  },
  {
   "cell_type": "code",
   "execution_count": null,
   "metadata": {},
   "outputs": [],
   "source": [
    "generation_df1['TIME'] = generation_df1['DATE_TIME'].dt.time\n",
    "generation_df1['DATE'] = generation_df1['DATE_TIME'].dt.date\n",
    "generation_df1['POWER'] = generation_df1['DC_POWER'] + generation_df1['AC_POWER']"
   ]
  },
  {
   "cell_type": "code",
   "execution_count": null,
   "metadata": {},
   "outputs": [],
   "source": [
    "# power generated against time of the day\n",
    "fig = px.line(generation_df1, x = 'TIME', y = 'POWER', color = 'DATE', symbol = 'SOURCE_KEY')\n",
    "fig.update_layout(showlegend = False)\n",
    "fig.show()"
   ]
  },
  {
   "cell_type": "markdown",
   "metadata": {},
   "source": [
    "Based on this plot, we can see that the solar power generation occurs from 6am to 6.30pm. Thus, we should only be feeding our models data from these times to reduce the demands on computational power."
   ]
  },
  {
   "cell_type": "code",
   "execution_count": null,
   "metadata": {},
   "outputs": [],
   "source": [
    "# power generated against date\n",
    "fig = px.line(generation_df1, x = 'DATE', y = 'POWER', color = 'TIME', symbol = 'SOURCE_KEY')\n",
    "fig.update_layout(showlegend = False)\n",
    "fig.show()"
   ]
  },
  {
   "cell_type": "markdown",
   "metadata": {},
   "source": [
    "It seems like the power does not vary predictably with the date so this should be exclueded from the anomaly detection model.\n",
    "\n",
    "However, the data only spans a 34 day period and there could be long term trends in the data which are not evident in the current set of data. If such a trend were to exist, we ought to include the date into the model."
   ]
  },
  {
   "cell_type": "code",
   "execution_count": null,
   "metadata": {},
   "outputs": [],
   "source": [
    "# joinning the 2 dataframes\n",
    "df = generation_df1.merge(weather_df1, on= 'DATE_TIME', how = 'left', suffixes = ('_GENERATION', '_WEATHER'))\n",
    "df.head(10)"
   ]
  },
  {
   "cell_type": "code",
   "execution_count": null,
   "metadata": {},
   "outputs": [],
   "source": [
    "# power against ambient temperature\n",
    "fig = px.scatter(df, x = 'AMBIENT_TEMPERATURE', y = 'POWER', color = 'TIME')\n",
    "fig.update_layout(showlegend = False)\n",
    "fig.show()"
   ]
  },
  {
   "cell_type": "code",
   "execution_count": null,
   "metadata": {},
   "outputs": [],
   "source": [
    "px.scatter(df, x = 'TIME', y = 'AMBIENT_TEMPERATURE')"
   ]
  },
  {
   "cell_type": "markdown",
   "metadata": {},
   "source": [
    "Although it looks like there is a relationship between power and ambient temperature, its effect appears to be highly correlated to time. \n",
    "\n",
    "Due to the highly correlated nature, it might not be an excellent variable to use."
   ]
  },
  {
   "cell_type": "code",
   "execution_count": null,
   "metadata": {},
   "outputs": [],
   "source": [
    "# power against module temperature\n",
    "fig = px.scatter(df, x = 'MODULE_TEMPERATURE', y = 'POWER', color = 'TIME')\n",
    "fig.update_layout(showlegend = False)\n",
    "fig.show()"
   ]
  },
  {
   "cell_type": "code",
   "execution_count": null,
   "metadata": {},
   "outputs": [],
   "source": [
    "px.scatter(df, x = 'TIME', y = 'MODULE_TEMPERATURE')"
   ]
  },
  {
   "cell_type": "markdown",
   "metadata": {},
   "source": [
    "All that was said about ambient temperature, can also be applied to module temperature."
   ]
  },
  {
   "cell_type": "code",
   "execution_count": null,
   "metadata": {},
   "outputs": [],
   "source": [
    "# power against module temperature\n",
    "fig = px.scatter(df, x = 'IRRADIATION', y = 'POWER', color = 'TIME')\n",
    "fig.update_layout(showlegend = False)\n",
    "fig.show()"
   ]
  },
  {
   "cell_type": "code",
   "execution_count": null,
   "metadata": {},
   "outputs": [],
   "source": [
    "px.scatter(df, x = 'TIME', y = 'IRRADIATION')"
   ]
  },
  {
   "cell_type": "markdown",
   "metadata": {},
   "source": [
    "Just like the other 2 temperature readings, irradiation also seems to be correlated to time.\n",
    "\n",
    "However, it exhibits the most linear relationship with time making it the best variable to use to predict power generation.\n",
    "\n",
    "## <strong>Modelling</strong>\n",
    "\n",
    "Based on the exploratory data analysis above, the model will consist of a linear regression model to predict the expected power generation given a irradiation level. \n",
    "\n",
    "> power = a1 * irradiation + b + error\n",
    "\n",
    "The difference between the actual and predicted values will be the outlier score that we will use in our hypothesis testing to find underperforming solar panels.\n",
    "\n",
    "The error will have a normal distribution with mean 0 and unknown variance."
   ]
  },
  {
   "cell_type": "code",
   "execution_count": null,
   "metadata": {},
   "outputs": [],
   "source": [
    "class Model:\n",
    "    def __init__(self, confidence_level = 0.9999):\n",
    "\n",
    "        self.model = HuberRegressor()\n",
    "        self.significance_level = 1 - confidence_level\n",
    "\n",
    "    def fit(self, X, Y):\n",
    "\n",
    "        self.critical_value = st.norm.ppf(self.significance_level)\n",
    "\n",
    "        self.model.fit(X, Y)\n",
    "        residues = Y - self.model.predict(X)\n",
    "\n",
    "        self.variance = np.sum(residues**2) / (len(X) - 1)\n",
    "    \n",
    "    def predict(self, X, Y):\n",
    "\n",
    "        residues = Y - self.model.predict(X)\n",
    "        test_statistic = residues / self.variance**0.5\n",
    "        outlier = test_statistic < self.critical_value\n",
    "        return outlier"
   ]
  },
  {
   "cell_type": "code",
   "execution_count": null,
   "metadata": {},
   "outputs": [],
   "source": [
    "# clean up dataframe\n",
    "def to_seconds(value):\n",
    "    hour = value.hour\n",
    "    minutes = value.minute\n",
    "    return int(hour) * 60 + int(minutes)\n",
    "\n",
    "df = pd.concat(\n",
    "    [df['DATE_TIME'], df['PLANT_ID_GENERATION'], df['SOURCE_KEY_GENERATION'], \n",
    "    df['POWER'], df['IRRADIATION']], axis = 1\n",
    "    )\n",
    "    \n",
    "df = df.dropna()\n",
    "df = df.drop(index = df.loc[df['DATE_TIME'].apply(to_seconds) < 6 * 60].index)\n",
    "df = df.drop(index = df.loc[df['DATE_TIME'].apply(to_seconds) > 18 * 60].index)\n",
    "df.head()"
   ]
  },
  {
   "cell_type": "code",
   "execution_count": null,
   "metadata": {},
   "outputs": [],
   "source": [
    "model = Model()\n",
    "model.fit(df[['IRRADIATION']], df['POWER'])\n",
    "results = model.predict(df[['IRRADIATION']], df['POWER'])\n",
    "px.scatter(df, x = 'IRRADIATION', y = 'POWER', color = [\"outlier\" if result else \"inlier\" for result in results], \n",
    "    hover_data=['DATE_TIME', 'SOURCE_KEY_GENERATION'])"
   ]
  },
  {
   "cell_type": "markdown",
   "metadata": {},
   "source": [
    "Based on the graph, the model can identify data points which are too far below the regression line. These data points are likely to be from underperforming solar panels, so the goal of identifying faulty or suboptimal solar panels has been achieved."
   ]
  },
  {
   "cell_type": "code",
   "execution_count": null,
   "metadata": {},
   "outputs": [],
   "source": []
  }
 ],
 "metadata": {
  "kernelspec": {
   "display_name": "Python 3.10.6 64-bit (windows store)",
   "language": "python",
   "name": "python3"
  },
  "language_info": {
   "codemirror_mode": {
    "name": "ipython",
    "version": 3
   },
   "file_extension": ".py",
   "mimetype": "text/x-python",
   "name": "python",
   "nbconvert_exporter": "python",
   "pygments_lexer": "ipython3",
   "version": "3.10.6"
  },
  "orig_nbformat": 4,
  "vscode": {
   "interpreter": {
    "hash": "9f702cee168fb3d3cb681ea785cdadabe69aaab2a548ad43e38288f8bf223806"
   }
  }
 },
 "nbformat": 4,
 "nbformat_minor": 2
}
